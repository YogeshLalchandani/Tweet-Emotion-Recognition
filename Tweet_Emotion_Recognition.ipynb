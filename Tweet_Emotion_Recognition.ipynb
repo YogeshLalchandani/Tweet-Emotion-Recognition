{
  "cells": [
    {
      "cell_type": "markdown",
      "metadata": {
        "id": "xGOpkiOnZrAi"
      },
      "source": [
        "## Setup and Imports\n",
        "\n",
        "1. Installing Hugging Face's nlp package\n",
        "2. Importing libraries"
      ]
    },
    {
      "cell_type": "code",
      "execution_count": 1,
      "metadata": {
        "colab": {
          "base_uri": "https://localhost:8080/"
        },
        "id": "5agZRy-45i0g",
        "outputId": "f28f6c40-7d60-4a9c-94c1-ad37ca1d4088"
      },
      "outputs": [
        {
          "output_type": "stream",
          "name": "stdout",
          "text": [
            "Requirement already satisfied: nlp in /usr/local/lib/python3.7/dist-packages (0.4.0)\n",
            "Requirement already satisfied: pyarrow>=0.16.0 in /usr/local/lib/python3.7/dist-packages (from nlp) (6.0.1)\n",
            "Requirement already satisfied: tqdm>=4.27 in /usr/local/lib/python3.7/dist-packages (from nlp) (4.63.0)\n",
            "Requirement already satisfied: requests>=2.19.0 in /usr/local/lib/python3.7/dist-packages (from nlp) (2.23.0)\n",
            "Requirement already satisfied: dill in /usr/local/lib/python3.7/dist-packages (from nlp) (0.3.4)\n",
            "Requirement already satisfied: numpy in /usr/local/lib/python3.7/dist-packages (from nlp) (1.21.5)\n",
            "Requirement already satisfied: xxhash in /usr/local/lib/python3.7/dist-packages (from nlp) (3.0.0)\n",
            "Requirement already satisfied: filelock in /usr/local/lib/python3.7/dist-packages (from nlp) (3.6.0)\n",
            "Requirement already satisfied: pandas in /usr/local/lib/python3.7/dist-packages (from nlp) (1.3.5)\n",
            "Requirement already satisfied: chardet<4,>=3.0.2 in /usr/local/lib/python3.7/dist-packages (from requests>=2.19.0->nlp) (3.0.4)\n",
            "Requirement already satisfied: idna<3,>=2.5 in /usr/local/lib/python3.7/dist-packages (from requests>=2.19.0->nlp) (2.10)\n",
            "Requirement already satisfied: urllib3!=1.25.0,!=1.25.1,<1.26,>=1.21.1 in /usr/local/lib/python3.7/dist-packages (from requests>=2.19.0->nlp) (1.24.3)\n",
            "Requirement already satisfied: certifi>=2017.4.17 in /usr/local/lib/python3.7/dist-packages (from requests>=2.19.0->nlp) (2021.10.8)\n",
            "Requirement already satisfied: python-dateutil>=2.7.3 in /usr/local/lib/python3.7/dist-packages (from pandas->nlp) (2.8.2)\n",
            "Requirement already satisfied: pytz>=2017.3 in /usr/local/lib/python3.7/dist-packages (from pandas->nlp) (2018.9)\n",
            "Requirement already satisfied: six>=1.5 in /usr/local/lib/python3.7/dist-packages (from python-dateutil>=2.7.3->pandas->nlp) (1.15.0)\n"
          ]
        }
      ],
      "source": [
        "!pip install nlp"
      ]
    },
    {
      "cell_type": "code",
      "execution_count": 2,
      "metadata": {
        "colab": {
          "base_uri": "https://localhost:8080/"
        },
        "id": "yKFjWz6e5eiH",
        "outputId": "9f556049-cc91-4650-c2f2-2654319b6908"
      },
      "outputs": [
        {
          "output_type": "stream",
          "name": "stdout",
          "text": [
            "Using TensorFlow version 2.8.0\n"
          ]
        }
      ],
      "source": [
        "%matplotlib inline\n",
        "\n",
        "import tensorflow as tf\n",
        "import numpy as np\n",
        "import matplotlib.pyplot as plt\n",
        "import nlp\n",
        "import random\n",
        "   \n",
        "print('Using TensorFlow version', tf.__version__)"
      ]
    },
    {
      "cell_type": "markdown",
      "metadata": {
        "id": "3y75YcXOZrAo"
      },
      "source": [
        "## Importing Data\n",
        "\n",
        "1. Importing the Tweet Emotion dataset\n",
        "2. Creating train, validation and test sets\n",
        "3. Extracting tweets and labels from the examples"
      ]
    },
    {
      "cell_type": "code",
      "execution_count": 3,
      "metadata": {
        "colab": {
          "base_uri": "https://localhost:8080/"
        },
        "id": "0YHOvjAu5eiL",
        "outputId": "a99a5679-520f-4ba4-d06b-4080e1f8df0a"
      },
      "outputs": [
        {
          "output_type": "stream",
          "name": "stderr",
          "text": [
            "Using custom data configuration default\n"
          ]
        }
      ],
      "source": [
        "dataset = nlp.load_dataset('emotion')"
      ]
    },
    {
      "cell_type": "code",
      "execution_count": 4,
      "metadata": {
        "colab": {
          "base_uri": "https://localhost:8080/"
        },
        "id": "-lUO2yeDZrAq",
        "outputId": "47b0dd90-ca35-4be1-de76-8105b258a71f"
      },
      "outputs": [
        {
          "output_type": "execute_result",
          "data": {
            "text/plain": [
              "{'test': Dataset(features: {'text': Value(dtype='string', id=None), 'label': Value(dtype='string', id=None)}, num_rows: 2000),\n",
              " 'train': Dataset(features: {'text': Value(dtype='string', id=None), 'label': Value(dtype='string', id=None)}, num_rows: 16000),\n",
              " 'validation': Dataset(features: {'text': Value(dtype='string', id=None), 'label': Value(dtype='string', id=None)}, num_rows: 2000)}"
            ]
          },
          "metadata": {},
          "execution_count": 4
        }
      ],
      "source": [
        "dataset"
      ]
    },
    {
      "cell_type": "code",
      "execution_count": 5,
      "metadata": {
        "id": "z7eCnxU25eiN"
      },
      "outputs": [],
      "source": [
        "train = dataset['train']\n",
        "val = dataset['validation']\n",
        "test = dataset['test']"
      ]
    },
    {
      "cell_type": "code",
      "execution_count": 6,
      "metadata": {
        "id": "oDYXMfZy5eiP"
      },
      "outputs": [],
      "source": [
        "def get_tweets(data):\n",
        "    tweets = [x['text'] for x in data]\n",
        "    labels = [x['label'] for x in data]\n",
        "    return tweets, labels"
      ]
    },
    {
      "cell_type": "code",
      "execution_count": 7,
      "metadata": {
        "id": "jeq3-vSB5eiR"
      },
      "outputs": [],
      "source": [
        "tweets, labels = get_tweets(train)"
      ]
    },
    {
      "cell_type": "code",
      "execution_count": 8,
      "metadata": {
        "colab": {
          "base_uri": "https://localhost:8080/"
        },
        "id": "bHD3Tk0J5eiU",
        "outputId": "21677e28-e63b-42ff-d46c-54bab9237408"
      },
      "outputs": [
        {
          "output_type": "execute_result",
          "data": {
            "text/plain": [
              "('i didnt feel humiliated', 'sadness')"
            ]
          },
          "metadata": {},
          "execution_count": 8
        }
      ],
      "source": [
        "tweets[0], labels[0]"
      ]
    },
    {
      "cell_type": "markdown",
      "metadata": {
        "id": "Ui3uDuxrZrAw"
      },
      "source": [
        "## Tokenizing the tweets\n"
      ]
    },
    {
      "cell_type": "code",
      "execution_count": 9,
      "metadata": {
        "id": "j8JrvIj7ZrAw"
      },
      "outputs": [],
      "source": [
        "from tensorflow.keras.preprocessing.text import Tokenizer"
      ]
    },
    {
      "cell_type": "code",
      "execution_count": 10,
      "metadata": {
        "colab": {
          "base_uri": "https://localhost:8080/"
        },
        "id": "cckUvwBo5eif",
        "outputId": "81ae169d-e519-4850-ab4e-a07eb8d61147"
      },
      "outputs": [
        {
          "output_type": "stream",
          "name": "stdout",
          "text": [
            "[[2, 139, 3, 679]]\n"
          ]
        }
      ],
      "source": [
        "tokenizer = Tokenizer(num_words=10000, oov_token='<UNK>')\n",
        "\n",
        "tokenizer.fit_on_texts(tweets)\n",
        "\n",
        "print(tokenizer.texts_to_sequences([tweets[0]]))"
      ]
    },
    {
      "cell_type": "markdown",
      "metadata": {
        "id": "P7Vr-DeRZrAy"
      },
      "source": [
        "##  Padding and Truncating Sequences"
      ]
    },
    {
      "cell_type": "code",
      "execution_count": 11,
      "metadata": {
        "colab": {
          "base_uri": "https://localhost:8080/",
          "height": 265
        },
        "id": "Re6lI28ZZrAz",
        "outputId": "bb31f7e3-8969-48b5-9550-befb25ad69da"
      },
      "outputs": [
        {
          "output_type": "display_data",
          "data": {
            "text/plain": [
              "<Figure size 432x288 with 1 Axes>"
            ],
            "image/png": "[encoded data removed]"
          },
          "metadata": {
            "needs_background": "light"
          }
        }
      ],
      "source": [
        "lengths = [len(t.split(' ')) for t in tweets]\n",
        "\n",
        "plt.hist(lengths, bins=len(set(lengths)))\n",
        "plt.show()"
      ]
    },
    {
      "cell_type": "code",
      "execution_count": 12,
      "metadata": {
        "id": "W-OPFWgsZrAz"
      },
      "outputs": [],
      "source": [
        "from tensorflow.keras.preprocessing.sequence import pad_sequences"
      ]
    },
    {
      "cell_type": "code",
      "execution_count": 13,
      "metadata": {
        "id": "Q9J_Iemf5eiq"
      },
      "outputs": [],
      "source": [
        "def get_sequences(tokenizer, tweets):\n",
        "    sequences = tokenizer.texts_to_sequences(tweets)\n",
        "    padded_sequences = pad_sequences(sequences, truncating='post', maxlen=50, padding='post')\n",
        "    return padded_sequences"
      ]
    },
    {
      "cell_type": "code",
      "execution_count": 14,
      "metadata": {
        "id": "eglH77ky5ei0"
      },
      "outputs": [],
      "source": [
        "padded_train_sequences = get_sequences(tokenizer, tweets)"
      ]
    },
    {
      "cell_type": "code",
      "execution_count": 15,
      "metadata": {
        "colab": {
          "base_uri": "https://localhost:8080/"
        },
        "id": "iGR473HA5ei7",
        "outputId": "1d7e48b8-69d7-4c05-c198-e9eaee8cbc7e"
      },
      "outputs": [
        {
          "output_type": "execute_result",
          "data": {
            "text/plain": [
              "array([  2, 139,   3, 679,   0,   0,   0,   0,   0,   0,   0,   0,   0,\n",
              "         0,   0,   0,   0,   0,   0,   0,   0,   0,   0,   0,   0,   0,\n",
              "         0,   0,   0,   0,   0,   0,   0,   0,   0,   0,   0,   0,   0,\n",
              "         0,   0,   0,   0,   0,   0,   0,   0,   0,   0,   0], dtype=int32)"
            ]
          },
          "metadata": {},
          "execution_count": 15
        }
      ],
      "source": [
        "padded_train_sequences[0]"
      ]
    },
    {
      "cell_type": "markdown",
      "metadata": {
        "id": "UR8o9mTBZrA2"
      },
      "source": [
        "##  Preparing the Labels\n",
        "\n",
        "1. Creating classes to index and index to classes dictionaries\n",
        "2. Converting text labels to numeric labels"
      ]
    },
    {
      "cell_type": "code",
      "execution_count": 16,
      "metadata": {
        "colab": {
          "base_uri": "https://localhost:8080/"
        },
        "id": "SufT2bpD5ejE",
        "outputId": "a355db0d-b12c-4bec-9c65-9c52de9ca9e4"
      },
      "outputs": [
        {
          "output_type": "stream",
          "name": "stdout",
          "text": [
            "{'anger', 'sadness', 'joy', 'surprise', 'fear', 'love'}\n"
          ]
        }
      ],
      "source": [
        "classes = set(labels)\n",
        "print(classes)"
      ]
    },
    {
      "cell_type": "code",
      "execution_count": 17,
      "metadata": {
        "colab": {
          "base_uri": "https://localhost:8080/",
          "height": 265
        },
        "id": "rpwzL88I7YSm",
        "outputId": "a7cc55e6-29c5-4d92-f548-088c4d1e6867"
      },
      "outputs": [
        {
          "output_type": "display_data",
          "data": {
            "text/plain": [
              "<Figure size 432x288 with 1 Axes>"
            ],
            "image/png": "[encoded data removed]"
          },
          "metadata": {
            "needs_background": "light"
          }
        }
      ],
      "source": [
        "plt.hist(labels, bins=11)\n",
        "plt.show()"
      ]
    },
    {
      "cell_type": "code",
      "execution_count": 18,
      "metadata": {
        "id": "dNLF6rXL5ejN"
      },
      "outputs": [],
      "source": [
        "classes_to_index = dict((c, i) for i, c in enumerate(classes))\n",
        "index_to_classes = dict((v, k) for k, v in classes_to_index.items())"
      ]
    },
    {
      "cell_type": "code",
      "execution_count": 19,
      "metadata": {
        "colab": {
          "base_uri": "https://localhost:8080/"
        },
        "id": "_08InVyM5ejc",
        "outputId": "284bc105-d699-4a6b-cf70-91e720d0cb55"
      },
      "outputs": [
        {
          "output_type": "execute_result",
          "data": {
            "text/plain": [
              "{'anger': 0, 'fear': 4, 'joy': 2, 'love': 5, 'sadness': 1, 'surprise': 3}"
            ]
          },
          "metadata": {},
          "execution_count": 19
        }
      ],
      "source": [
        "classes_to_index"
      ]
    },
    {
      "cell_type": "code",
      "execution_count": 20,
      "metadata": {
        "colab": {
          "base_uri": "https://localhost:8080/"
        },
        "id": "FHMugXjyZrA5",
        "outputId": "0b4b705f-8c85-47e6-d9c1-6ea188fc3562"
      },
      "outputs": [
        {
          "output_type": "execute_result",
          "data": {
            "text/plain": [
              "{0: 'anger', 1: 'sadness', 2: 'joy', 3: 'surprise', 4: 'fear', 5: 'love'}"
            ]
          },
          "metadata": {},
          "execution_count": 20
        }
      ],
      "source": [
        "index_to_classes"
      ]
    },
    {
      "cell_type": "code",
      "execution_count": 21,
      "metadata": {
        "id": "Jq0WJYsP5ejR"
      },
      "outputs": [],
      "source": [
        "names_to_ids = lambda labels: np.array([classes_to_index.get(x) for x in labels])"
      ]
    },
    {
      "cell_type": "code",
      "execution_count": 22,
      "metadata": {
        "colab": {
          "base_uri": "https://localhost:8080/"
        },
        "id": "v15KnrNC5ejW",
        "outputId": "d5c9d96f-408f-4bdb-a845-ad1d00651e76"
      },
      "outputs": [
        {
          "output_type": "stream",
          "name": "stdout",
          "text": [
            "1\n"
          ]
        }
      ],
      "source": [
        "train_labels = names_to_ids(labels)\n",
        "print(train_labels[0])"
      ]
    },
    {
      "cell_type": "markdown",
      "metadata": {
        "id": "Jaqq5KuyZrA6"
      },
      "source": [
        "##  Model creation\n"
      ]
    },
    {
      "cell_type": "code",
      "execution_count": 23,
      "metadata": {
        "colab": {
          "base_uri": "https://localhost:8080/"
        },
        "id": "OpewXxPQ5eji",
        "outputId": "9284a6e7-465d-4adf-b787-11ec008ed9b4"
      },
      "outputs": [
        {
          "output_type": "stream",
          "name": "stdout",
          "text": [
            "Model: \"sequential\"\n",
            "_________________________________________________________________\n",
            " Layer (type)                Output Shape              Param #   \n",
            "=================================================================\n",
            " embedding (Embedding)       (None, 50, 16)            160000    \n",
            "                                                                 \n",
            " bidirectional (Bidirectiona  (None, 50, 40)           5920      \n",
            " l)                                                              \n",
            "                                                                 \n",
            " bidirectional_1 (Bidirectio  (None, 40)               9760      \n",
            " nal)                                                            \n",
            "                                                                 \n",
            " dense (Dense)               (None, 6)                 246       \n",
            "                                                                 \n",
            "=================================================================\n",
            "Total params: 175,926\n",
            "Trainable params: 175,926\n",
            "Non-trainable params: 0\n",
            "_________________________________________________________________\n"
          ]
        }
      ],
      "source": [
        "model = tf.keras.models.Sequential([\n",
        "    tf.keras.layers.Embedding(10000, 16, input_length=50),\n",
        "    tf.keras.layers.Bidirectional(tf.keras.layers.LSTM(20, return_sequences=True)),\n",
        "    tf.keras.layers.Bidirectional(tf.keras.layers.LSTM(20)),\n",
        "    tf.keras.layers.Dense(6, activation='softmax')\n",
        "])\n",
        "\n",
        "model.compile(\n",
        "    loss='sparse_categorical_crossentropy',\n",
        "    optimizer='adam',\n",
        "    metrics=['accuracy']\n",
        ")\n",
        "\n",
        "model.summary()"
      ]
    },
    {
      "cell_type": "markdown",
      "metadata": {
        "id": "WMEwySmFZrA7"
      },
      "source": [
        "##  Training the Model\n",
        "\n",
        "1. Preparing a validation set\n",
        "2. Training the model"
      ]
    },
    {
      "cell_type": "code",
      "execution_count": 24,
      "metadata": {
        "id": "Ff7F3hCK5ejm"
      },
      "outputs": [],
      "source": [
        "val_tweets, val_labels = get_tweets(val)\n",
        "val_sequences = get_sequences(tokenizer, val_tweets)\n",
        "val_labels = names_to_ids(val_labels)"
      ]
    },
    {
      "cell_type": "code",
      "execution_count": 25,
      "metadata": {
        "colab": {
          "base_uri": "https://localhost:8080/"
        },
        "id": "hlMKaZ3H5ejr",
        "outputId": "c78e34dc-96a8-45ef-eb02-695e38ed7b6f"
      },
      "outputs": [
        {
          "output_type": "execute_result",
          "data": {
            "text/plain": [
              "('im feeling quite sad and sorry for myself but ill snap out of it soon', 1)"
            ]
          },
          "metadata": {},
          "execution_count": 25
        }
      ],
      "source": [
        "val_tweets[0], val_labels[0]"
      ]
    },
    {
      "cell_type": "code",
      "execution_count": 26,
      "metadata": {
        "colab": {
          "base_uri": "https://localhost:8080/"
        },
        "id": "bzBqnWQ-5ejw",
        "outputId": "3dbff6aa-6ea2-45a1-d9b2-a907901c26cb"
      },
      "outputs": [
        {
          "output_type": "stream",
          "name": "stdout",
          "text": [
            "Epoch 1/20\n",
            "500/500 [==============================] - 42s 60ms/step - loss: 1.3522 - accuracy: 0.4403 - val_loss: 1.0191 - val_accuracy: 0.6155\n",
            "Epoch 2/20\n",
            "500/500 [==============================] - 28s 56ms/step - loss: 0.7397 - accuracy: 0.7387 - val_loss: 0.6579 - val_accuracy: 0.7590\n",
            "Epoch 3/20\n",
            "500/500 [==============================] - 28s 57ms/step - loss: 0.4366 - accuracy: 0.8549 - val_loss: 0.5372 - val_accuracy: 0.8280\n",
            "Epoch 4/20\n",
            "500/500 [==============================] - 28s 57ms/step - loss: 0.2904 - accuracy: 0.9072 - val_loss: 0.5116 - val_accuracy: 0.8530\n",
            "Epoch 5/20\n",
            "500/500 [==============================] - 28s 56ms/step - loss: 0.2304 - accuracy: 0.9291 - val_loss: 0.4743 - val_accuracy: 0.8680\n",
            "Epoch 6/20\n",
            "500/500 [==============================] - 28s 57ms/step - loss: 0.1782 - accuracy: 0.9461 - val_loss: 0.4783 - val_accuracy: 0.8530\n",
            "Epoch 7/20\n",
            "500/500 [==============================] - 28s 57ms/step - loss: 0.1510 - accuracy: 0.9541 - val_loss: 0.4698 - val_accuracy: 0.8685\n",
            "Epoch 8/20\n",
            "500/500 [==============================] - 28s 57ms/step - loss: 0.1263 - accuracy: 0.9619 - val_loss: 0.4220 - val_accuracy: 0.8750\n",
            "Epoch 9/20\n",
            "500/500 [==============================] - 28s 56ms/step - loss: 0.1126 - accuracy: 0.9668 - val_loss: 0.5025 - val_accuracy: 0.8645\n",
            "Epoch 10/20\n",
            "500/500 [==============================] - 28s 56ms/step - loss: 0.1060 - accuracy: 0.9684 - val_loss: 0.4773 - val_accuracy: 0.8685\n"
          ]
        }
      ],
      "source": [
        "h = model.fit(\n",
        "    padded_train_sequences, train_labels,\n",
        "    validation_data=(val_sequences, val_labels),\n",
        "    epochs=20,\n",
        "    callbacks=[\n",
        "        tf.keras.callbacks.EarlyStopping(monitor='val_accuracy', patience=2)\n",
        "    ]\n",
        ")"
      ]
    },
    {
      "cell_type": "markdown",
      "metadata": {
        "id": "5p_2EWV8ZrA9"
      },
      "source": [
        "##  Evaluating the Model\n",
        "\n"
      ]
    },
    {
      "cell_type": "code",
      "source": [
        "def show_history(h):\n",
        "    epochs_trained = len(h.history['loss'])\n",
        "    plt.figure(figsize=(16, 6))\n",
        "\n",
        "    plt.subplot(1, 2, 1)\n",
        "    plt.plot(range(0, epochs_trained), h.history.get('accuracy'), label='Training')\n",
        "    plt.plot(range(0, epochs_trained), h.history.get('val_accuracy'), label='Validation')\n",
        "    plt.ylim([0., 1.])\n",
        "    plt.xlabel('Epochs')\n",
        "    plt.ylabel('Accuracy')\n",
        "    plt.legend()\n",
        "\n",
        "    plt.subplot(1, 2, 2)\n",
        "    plt.plot(range(0, epochs_trained), h.history.get('loss'), label='Training')\n",
        "    plt.plot(range(0, epochs_trained), h.history.get('val_loss'), label='Validation')\n",
        "    plt.xlabel('Epochs')\n",
        "    plt.ylabel('Loss')\n",
        "    plt.legend()\n",
        "    plt.show()"
      ],
      "metadata": {
        "id": "iQXpJxLMhwHt"
      },
      "execution_count": 27,
      "outputs": []
    },
    {
      "cell_type": "code",
      "execution_count": 28,
      "metadata": {
        "colab": {
          "base_uri": "https://localhost:8080/",
          "height": 392
        },
        "id": "VcCURGGcZrA-",
        "outputId": "5ce38c98-5646-4893-d0b7-a539efbb0fae"
      },
      "outputs": [
        {
          "output_type": "display_data",
          "data": {
            "text/plain": [
              "<Figure size 1152x432 with 2 Axes>"
            ],
            "image/png": "[encoded data removed]"
          },
          "metadata": {
            "needs_background": "light"
          }
        }
      ],
      "source": [
        "show_history(h)"
      ]
    },
    {
      "cell_type": "code",
      "execution_count": 29,
      "metadata": {
        "id": "DjVv6qZkZrA-"
      },
      "outputs": [],
      "source": [
        "test_tweets, test_labels = get_tweets(test)\n",
        "test_sequences = get_sequences(tokenizer, test_tweets)\n",
        "test_labels = names_to_ids(test_labels)"
      ]
    },
    {
      "cell_type": "code",
      "execution_count": 30,
      "metadata": {
        "colab": {
          "base_uri": "https://localhost:8080/"
        },
        "id": "goRWGzpyZrA_",
        "outputId": "33eebcbd-a4c4-44bf-c679-e6b4dc0c4c80"
      },
      "outputs": [
        {
          "output_type": "stream",
          "name": "stdout",
          "text": [
            "63/63 [==============================] - 1s 20ms/step - loss: 0.5246 - accuracy: 0.8590\n"
          ]
        }
      ],
      "source": [
        "_ = model.evaluate(test_sequences, test_labels)"
      ]
    },
    {
      "cell_type": "code",
      "execution_count": 31,
      "metadata": {
        "colab": {
          "base_uri": "https://localhost:8080/"
        },
        "id": "rh638vHG5ej6",
        "outputId": "4ed6ffff-51bb-4c92-fcc4-233ae5e17662"
      },
      "outputs": [
        {
          "output_type": "stream",
          "name": "stdout",
          "text": [
            "Sentence: i managed to re learn feeling insecure again\n",
            "Emotion: fear\n",
            "Predicted Emotion: fear\n"
          ]
        }
      ],
      "source": [
        "i = random.randint(0, len(test_labels) - 1)\n",
        "\n",
        "print('Sentence:', test_tweets[i])\n",
        "print('Emotion:', index_to_classes[test_labels[i]])\n",
        "\n",
        "p = model.predict(np.expand_dims(test_sequences[i], axis=0))[0]\n",
        "pred_class=index_to_classes[np.argmax(p).astype('uint8')]\n",
        "print('Predicted Emotion:', pred_class)"
      ]
    },
    {
      "cell_type": "code",
      "execution_count": 32,
      "metadata": {
        "colab": {
          "base_uri": "https://localhost:8080/"
        },
        "id": "ALXmFSIpZrBD",
        "outputId": "cb6b3512-7d2f-40c0-e20b-a9c627c0422d"
      },
      "outputs": [
        {
          "output_type": "execute_result",
          "data": {
            "text/plain": [
              "((2000,), (2000,))"
            ]
          },
          "metadata": {},
          "execution_count": 32
        }
      ],
      "source": [
        "preds=np.argmax(model.predict(test_sequences), axis=-1)\n",
        "# preds = model.predict_classes(test_sequences)\n",
        "preds.shape, test_labels.shape"
      ]
    },
    {
      "cell_type": "code",
      "source": [
        "def show_confusion_matrix(y_true, y_pred, classes):\n",
        "    from sklearn.metrics import confusion_matrix\n",
        "    \n",
        "    cm = confusion_matrix(y_true, y_pred, normalize='true')\n",
        "\n",
        "    plt.figure(figsize=(8, 8))\n",
        "    sp = plt.subplot(1, 1, 1)\n",
        "    ctx = sp.matshow(cm)\n",
        "    plt.xticks(list(range(0, 6)), labels=classes)\n",
        "    plt.yticks(list(range(0, 6)), labels=classes)\n",
        "    plt.colorbar(ctx)\n",
        "    plt.show()"
      ],
      "metadata": {
        "id": "PJfFCdSxiDNy"
      },
      "execution_count": 33,
      "outputs": []
    },
    {
      "cell_type": "code",
      "execution_count": 34,
      "metadata": {
        "colab": {
          "base_uri": "https://localhost:8080/",
          "height": 472
        },
        "id": "gKG31tncZrBD",
        "outputId": "147d2360-5f11-480b-c728-a7689dc7fc65"
      },
      "outputs": [
        {
          "output_type": "display_data",
          "data": {
            "text/plain": [
              "<Figure size 576x576 with 2 Axes>"
            ],
            "image/png": "[encoded data removed]"
          },
          "metadata": {
            "needs_background": "light"
          }
        }
      ],
      "source": [
        "show_confusion_matrix(test_labels, preds, list(classes))"
      ]
    }
  ],
  "metadata": {
    "accelerator": "GPU",
    "colab": {
      "collapsed_sections": [],
      "name": "Tweet Emotion Recognition",
      "provenance": []
    },
    "kernelspec": {
      "display_name": "Python 3",
      "language": "python",
      "name": "python3"
    },
    "language_info": {
      "codemirror_mode": {
        "name": "ipython",
        "version": 3
      },
      "file_extension": ".py",
      "mimetype": "text/x-python",
      "name": "python",
      "nbconvert_exporter": "python",
      "pygments_lexer": "ipython3",
      "version": "3.8.8"
    }
  },
  "nbformat": 4,
  "nbformat_minor": 0
}